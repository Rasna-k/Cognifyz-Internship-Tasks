{
 "cells": [
  {
   "cell_type": "markdown",
   "id": "3ad021e3",
   "metadata": {},
   "source": [
    "# Importing Data"
   ]
  },
  {
   "cell_type": "code",
   "execution_count": 33,
   "id": "9a98bc3c",
   "metadata": {},
   "outputs": [],
   "source": [
    "import pandas as pd"
   ]
  },
  {
   "cell_type": "code",
   "execution_count": 34,
   "id": "cded0b76",
   "metadata": {},
   "outputs": [
    {
     "data": {
      "text/html": [
       "<div>\n",
       "<style scoped>\n",
       "    .dataframe tbody tr th:only-of-type {\n",
       "        vertical-align: middle;\n",
       "    }\n",
       "\n",
       "    .dataframe tbody tr th {\n",
       "        vertical-align: top;\n",
       "    }\n",
       "\n",
       "    .dataframe thead th {\n",
       "        text-align: right;\n",
       "    }\n",
       "</style>\n",
       "<table border=\"1\" class=\"dataframe\">\n",
       "  <thead>\n",
       "    <tr style=\"text-align: right;\">\n",
       "      <th></th>\n",
       "      <th>Restaurant ID</th>\n",
       "      <th>Restaurant Name</th>\n",
       "      <th>Country Code</th>\n",
       "      <th>City</th>\n",
       "      <th>Address</th>\n",
       "      <th>Locality</th>\n",
       "      <th>Locality Verbose</th>\n",
       "      <th>Longitude</th>\n",
       "      <th>Latitude</th>\n",
       "      <th>Cuisines</th>\n",
       "      <th>...</th>\n",
       "      <th>Currency</th>\n",
       "      <th>Has Table booking</th>\n",
       "      <th>Has Online delivery</th>\n",
       "      <th>Is delivering now</th>\n",
       "      <th>Switch to order menu</th>\n",
       "      <th>Price range</th>\n",
       "      <th>Aggregate rating</th>\n",
       "      <th>Rating color</th>\n",
       "      <th>Rating text</th>\n",
       "      <th>Votes</th>\n",
       "    </tr>\n",
       "  </thead>\n",
       "  <tbody>\n",
       "    <tr>\n",
       "      <th>0</th>\n",
       "      <td>6317637</td>\n",
       "      <td>Le Petit Souffle</td>\n",
       "      <td>162</td>\n",
       "      <td>Makati City</td>\n",
       "      <td>Third Floor, Century City Mall, Kalayaan Avenu...</td>\n",
       "      <td>Century City Mall, Poblacion, Makati City</td>\n",
       "      <td>Century City Mall, Poblacion, Makati City, Mak...</td>\n",
       "      <td>121.027535</td>\n",
       "      <td>14.565443</td>\n",
       "      <td>French, Japanese, Desserts</td>\n",
       "      <td>...</td>\n",
       "      <td>Botswana Pula(P)</td>\n",
       "      <td>Yes</td>\n",
       "      <td>No</td>\n",
       "      <td>No</td>\n",
       "      <td>No</td>\n",
       "      <td>3</td>\n",
       "      <td>4.8</td>\n",
       "      <td>Dark Green</td>\n",
       "      <td>Excellent</td>\n",
       "      <td>314</td>\n",
       "    </tr>\n",
       "    <tr>\n",
       "      <th>1</th>\n",
       "      <td>6304287</td>\n",
       "      <td>Izakaya Kikufuji</td>\n",
       "      <td>162</td>\n",
       "      <td>Makati City</td>\n",
       "      <td>Little Tokyo, 2277 Chino Roces Avenue, Legaspi...</td>\n",
       "      <td>Little Tokyo, Legaspi Village, Makati City</td>\n",
       "      <td>Little Tokyo, Legaspi Village, Makati City, Ma...</td>\n",
       "      <td>121.014101</td>\n",
       "      <td>14.553708</td>\n",
       "      <td>Japanese</td>\n",
       "      <td>...</td>\n",
       "      <td>Botswana Pula(P)</td>\n",
       "      <td>Yes</td>\n",
       "      <td>No</td>\n",
       "      <td>No</td>\n",
       "      <td>No</td>\n",
       "      <td>3</td>\n",
       "      <td>4.5</td>\n",
       "      <td>Dark Green</td>\n",
       "      <td>Excellent</td>\n",
       "      <td>591</td>\n",
       "    </tr>\n",
       "    <tr>\n",
       "      <th>2</th>\n",
       "      <td>6300002</td>\n",
       "      <td>Heat - Edsa Shangri-La</td>\n",
       "      <td>162</td>\n",
       "      <td>Mandaluyong City</td>\n",
       "      <td>Edsa Shangri-La, 1 Garden Way, Ortigas, Mandal...</td>\n",
       "      <td>Edsa Shangri-La, Ortigas, Mandaluyong City</td>\n",
       "      <td>Edsa Shangri-La, Ortigas, Mandaluyong City, Ma...</td>\n",
       "      <td>121.056831</td>\n",
       "      <td>14.581404</td>\n",
       "      <td>Seafood, Asian, Filipino, Indian</td>\n",
       "      <td>...</td>\n",
       "      <td>Botswana Pula(P)</td>\n",
       "      <td>Yes</td>\n",
       "      <td>No</td>\n",
       "      <td>No</td>\n",
       "      <td>No</td>\n",
       "      <td>4</td>\n",
       "      <td>4.4</td>\n",
       "      <td>Green</td>\n",
       "      <td>Very Good</td>\n",
       "      <td>270</td>\n",
       "    </tr>\n",
       "    <tr>\n",
       "      <th>3</th>\n",
       "      <td>6318506</td>\n",
       "      <td>Ooma</td>\n",
       "      <td>162</td>\n",
       "      <td>Mandaluyong City</td>\n",
       "      <td>Third Floor, Mega Fashion Hall, SM Megamall, O...</td>\n",
       "      <td>SM Megamall, Ortigas, Mandaluyong City</td>\n",
       "      <td>SM Megamall, Ortigas, Mandaluyong City, Mandal...</td>\n",
       "      <td>121.056475</td>\n",
       "      <td>14.585318</td>\n",
       "      <td>Japanese, Sushi</td>\n",
       "      <td>...</td>\n",
       "      <td>Botswana Pula(P)</td>\n",
       "      <td>No</td>\n",
       "      <td>No</td>\n",
       "      <td>No</td>\n",
       "      <td>No</td>\n",
       "      <td>4</td>\n",
       "      <td>4.9</td>\n",
       "      <td>Dark Green</td>\n",
       "      <td>Excellent</td>\n",
       "      <td>365</td>\n",
       "    </tr>\n",
       "    <tr>\n",
       "      <th>4</th>\n",
       "      <td>6314302</td>\n",
       "      <td>Sambo Kojin</td>\n",
       "      <td>162</td>\n",
       "      <td>Mandaluyong City</td>\n",
       "      <td>Third Floor, Mega Atrium, SM Megamall, Ortigas...</td>\n",
       "      <td>SM Megamall, Ortigas, Mandaluyong City</td>\n",
       "      <td>SM Megamall, Ortigas, Mandaluyong City, Mandal...</td>\n",
       "      <td>121.057508</td>\n",
       "      <td>14.584450</td>\n",
       "      <td>Japanese, Korean</td>\n",
       "      <td>...</td>\n",
       "      <td>Botswana Pula(P)</td>\n",
       "      <td>Yes</td>\n",
       "      <td>No</td>\n",
       "      <td>No</td>\n",
       "      <td>No</td>\n",
       "      <td>4</td>\n",
       "      <td>4.8</td>\n",
       "      <td>Dark Green</td>\n",
       "      <td>Excellent</td>\n",
       "      <td>229</td>\n",
       "    </tr>\n",
       "  </tbody>\n",
       "</table>\n",
       "<p>5 rows × 21 columns</p>\n",
       "</div>"
      ],
      "text/plain": [
       "   Restaurant ID         Restaurant Name  Country Code              City  \\\n",
       "0        6317637        Le Petit Souffle           162       Makati City   \n",
       "1        6304287        Izakaya Kikufuji           162       Makati City   \n",
       "2        6300002  Heat - Edsa Shangri-La           162  Mandaluyong City   \n",
       "3        6318506                    Ooma           162  Mandaluyong City   \n",
       "4        6314302             Sambo Kojin           162  Mandaluyong City   \n",
       "\n",
       "                                             Address  \\\n",
       "0  Third Floor, Century City Mall, Kalayaan Avenu...   \n",
       "1  Little Tokyo, 2277 Chino Roces Avenue, Legaspi...   \n",
       "2  Edsa Shangri-La, 1 Garden Way, Ortigas, Mandal...   \n",
       "3  Third Floor, Mega Fashion Hall, SM Megamall, O...   \n",
       "4  Third Floor, Mega Atrium, SM Megamall, Ortigas...   \n",
       "\n",
       "                                     Locality  \\\n",
       "0   Century City Mall, Poblacion, Makati City   \n",
       "1  Little Tokyo, Legaspi Village, Makati City   \n",
       "2  Edsa Shangri-La, Ortigas, Mandaluyong City   \n",
       "3      SM Megamall, Ortigas, Mandaluyong City   \n",
       "4      SM Megamall, Ortigas, Mandaluyong City   \n",
       "\n",
       "                                    Locality Verbose   Longitude   Latitude  \\\n",
       "0  Century City Mall, Poblacion, Makati City, Mak...  121.027535  14.565443   \n",
       "1  Little Tokyo, Legaspi Village, Makati City, Ma...  121.014101  14.553708   \n",
       "2  Edsa Shangri-La, Ortigas, Mandaluyong City, Ma...  121.056831  14.581404   \n",
       "3  SM Megamall, Ortigas, Mandaluyong City, Mandal...  121.056475  14.585318   \n",
       "4  SM Megamall, Ortigas, Mandaluyong City, Mandal...  121.057508  14.584450   \n",
       "\n",
       "                           Cuisines  ...          Currency Has Table booking  \\\n",
       "0        French, Japanese, Desserts  ...  Botswana Pula(P)               Yes   \n",
       "1                          Japanese  ...  Botswana Pula(P)               Yes   \n",
       "2  Seafood, Asian, Filipino, Indian  ...  Botswana Pula(P)               Yes   \n",
       "3                   Japanese, Sushi  ...  Botswana Pula(P)                No   \n",
       "4                  Japanese, Korean  ...  Botswana Pula(P)               Yes   \n",
       "\n",
       "  Has Online delivery Is delivering now Switch to order menu Price range  \\\n",
       "0                  No                No                   No           3   \n",
       "1                  No                No                   No           3   \n",
       "2                  No                No                   No           4   \n",
       "3                  No                No                   No           4   \n",
       "4                  No                No                   No           4   \n",
       "\n",
       "   Aggregate rating  Rating color Rating text Votes  \n",
       "0               4.8    Dark Green   Excellent   314  \n",
       "1               4.5    Dark Green   Excellent   591  \n",
       "2               4.4         Green   Very Good   270  \n",
       "3               4.9    Dark Green   Excellent   365  \n",
       "4               4.8    Dark Green   Excellent   229  \n",
       "\n",
       "[5 rows x 21 columns]"
      ]
     },
     "execution_count": 34,
     "metadata": {},
     "output_type": "execute_result"
    }
   ],
   "source": [
    "df=pd.read_csv('https://raw.githubusercontent.com/Rasna-k/datasets/main/Dataset%20.csv')\n",
    "df.head()"
   ]
  },
  {
   "cell_type": "code",
   "execution_count": 35,
   "id": "42e518aa",
   "metadata": {},
   "outputs": [
    {
     "data": {
      "text/html": [
       "<div>\n",
       "<style scoped>\n",
       "    .dataframe tbody tr th:only-of-type {\n",
       "        vertical-align: middle;\n",
       "    }\n",
       "\n",
       "    .dataframe tbody tr th {\n",
       "        vertical-align: top;\n",
       "    }\n",
       "\n",
       "    .dataframe thead th {\n",
       "        text-align: right;\n",
       "    }\n",
       "</style>\n",
       "<table border=\"1\" class=\"dataframe\">\n",
       "  <thead>\n",
       "    <tr style=\"text-align: right;\">\n",
       "      <th></th>\n",
       "      <th>Restaurant ID</th>\n",
       "      <th>Restaurant Name</th>\n",
       "      <th>Country Code</th>\n",
       "      <th>City</th>\n",
       "      <th>Address</th>\n",
       "      <th>Locality</th>\n",
       "      <th>Locality Verbose</th>\n",
       "      <th>Longitude</th>\n",
       "      <th>Latitude</th>\n",
       "      <th>Cuisines</th>\n",
       "      <th>...</th>\n",
       "      <th>Currency</th>\n",
       "      <th>Has Table booking</th>\n",
       "      <th>Has Online delivery</th>\n",
       "      <th>Is delivering now</th>\n",
       "      <th>Switch to order menu</th>\n",
       "      <th>Price range</th>\n",
       "      <th>Aggregate rating</th>\n",
       "      <th>Rating color</th>\n",
       "      <th>Rating text</th>\n",
       "      <th>Votes</th>\n",
       "    </tr>\n",
       "  </thead>\n",
       "  <tbody>\n",
       "    <tr>\n",
       "      <th>84</th>\n",
       "      <td>17284105</td>\n",
       "      <td>Cookie Shoppe</td>\n",
       "      <td>216</td>\n",
       "      <td>Albany</td>\n",
       "      <td>115 N Jackson St, Albany, GA 31701</td>\n",
       "      <td>Albany</td>\n",
       "      <td>Albany, Albany</td>\n",
       "      <td>-84.154000</td>\n",
       "      <td>31.577200</td>\n",
       "      <td>NaN</td>\n",
       "      <td>...</td>\n",
       "      <td>Dollar($)</td>\n",
       "      <td>No</td>\n",
       "      <td>No</td>\n",
       "      <td>No</td>\n",
       "      <td>No</td>\n",
       "      <td>1</td>\n",
       "      <td>3.4</td>\n",
       "      <td>Orange</td>\n",
       "      <td>Average</td>\n",
       "      <td>34</td>\n",
       "    </tr>\n",
       "    <tr>\n",
       "      <th>87</th>\n",
       "      <td>17284211</td>\n",
       "      <td>Pearly's Famous Country Cookng</td>\n",
       "      <td>216</td>\n",
       "      <td>Albany</td>\n",
       "      <td>814 N Slappey Blvd, Albany, GA 31701</td>\n",
       "      <td>Albany</td>\n",
       "      <td>Albany, Albany</td>\n",
       "      <td>-84.175900</td>\n",
       "      <td>31.588200</td>\n",
       "      <td>NaN</td>\n",
       "      <td>...</td>\n",
       "      <td>Dollar($)</td>\n",
       "      <td>No</td>\n",
       "      <td>No</td>\n",
       "      <td>No</td>\n",
       "      <td>No</td>\n",
       "      <td>1</td>\n",
       "      <td>3.4</td>\n",
       "      <td>Orange</td>\n",
       "      <td>Average</td>\n",
       "      <td>36</td>\n",
       "    </tr>\n",
       "    <tr>\n",
       "      <th>94</th>\n",
       "      <td>17284158</td>\n",
       "      <td>Jimmie's Hot Dogs</td>\n",
       "      <td>216</td>\n",
       "      <td>Albany</td>\n",
       "      <td>204 S Jackson St, Albany, GA 31701</td>\n",
       "      <td>Albany</td>\n",
       "      <td>Albany, Albany</td>\n",
       "      <td>-84.153400</td>\n",
       "      <td>31.575100</td>\n",
       "      <td>NaN</td>\n",
       "      <td>...</td>\n",
       "      <td>Dollar($)</td>\n",
       "      <td>No</td>\n",
       "      <td>No</td>\n",
       "      <td>No</td>\n",
       "      <td>No</td>\n",
       "      <td>1</td>\n",
       "      <td>3.9</td>\n",
       "      <td>Yellow</td>\n",
       "      <td>Good</td>\n",
       "      <td>160</td>\n",
       "    </tr>\n",
       "    <tr>\n",
       "      <th>297</th>\n",
       "      <td>17374552</td>\n",
       "      <td>Corkscrew Cafe</td>\n",
       "      <td>216</td>\n",
       "      <td>Gainesville</td>\n",
       "      <td>51 W Main St, Dahlonega, GA 30533</td>\n",
       "      <td>Dahlonega</td>\n",
       "      <td>Dahlonega, Gainesville</td>\n",
       "      <td>-83.985800</td>\n",
       "      <td>34.531800</td>\n",
       "      <td>NaN</td>\n",
       "      <td>...</td>\n",
       "      <td>Dollar($)</td>\n",
       "      <td>No</td>\n",
       "      <td>No</td>\n",
       "      <td>No</td>\n",
       "      <td>No</td>\n",
       "      <td>3</td>\n",
       "      <td>3.9</td>\n",
       "      <td>Yellow</td>\n",
       "      <td>Good</td>\n",
       "      <td>209</td>\n",
       "    </tr>\n",
       "    <tr>\n",
       "      <th>328</th>\n",
       "      <td>17501439</td>\n",
       "      <td>Dovetail</td>\n",
       "      <td>216</td>\n",
       "      <td>Macon</td>\n",
       "      <td>543 Cherry St, Macon, GA 31201</td>\n",
       "      <td>Macon</td>\n",
       "      <td>Macon, Macon</td>\n",
       "      <td>-83.627979</td>\n",
       "      <td>32.836410</td>\n",
       "      <td>NaN</td>\n",
       "      <td>...</td>\n",
       "      <td>Dollar($)</td>\n",
       "      <td>No</td>\n",
       "      <td>No</td>\n",
       "      <td>No</td>\n",
       "      <td>No</td>\n",
       "      <td>3</td>\n",
       "      <td>3.8</td>\n",
       "      <td>Yellow</td>\n",
       "      <td>Good</td>\n",
       "      <td>102</td>\n",
       "    </tr>\n",
       "    <tr>\n",
       "      <th>346</th>\n",
       "      <td>17606621</td>\n",
       "      <td>HI Lite Bar &amp; Lounge</td>\n",
       "      <td>216</td>\n",
       "      <td>Miller</td>\n",
       "      <td>109 N Broadway Ave, Miller, SD 57362</td>\n",
       "      <td>Miller</td>\n",
       "      <td>Miller, Miller</td>\n",
       "      <td>-98.989100</td>\n",
       "      <td>44.515800</td>\n",
       "      <td>NaN</td>\n",
       "      <td>...</td>\n",
       "      <td>Dollar($)</td>\n",
       "      <td>No</td>\n",
       "      <td>No</td>\n",
       "      <td>No</td>\n",
       "      <td>No</td>\n",
       "      <td>1</td>\n",
       "      <td>3.4</td>\n",
       "      <td>Orange</td>\n",
       "      <td>Average</td>\n",
       "      <td>11</td>\n",
       "    </tr>\n",
       "    <tr>\n",
       "      <th>368</th>\n",
       "      <td>17059060</td>\n",
       "      <td>Hillstone</td>\n",
       "      <td>216</td>\n",
       "      <td>Orlando</td>\n",
       "      <td>215 South Orlando Avenue, Winter Park, FL 32789</td>\n",
       "      <td>Winter Park</td>\n",
       "      <td>Winter Park, Orlando</td>\n",
       "      <td>-81.365260</td>\n",
       "      <td>28.596682</td>\n",
       "      <td>NaN</td>\n",
       "      <td>...</td>\n",
       "      <td>Dollar($)</td>\n",
       "      <td>No</td>\n",
       "      <td>No</td>\n",
       "      <td>No</td>\n",
       "      <td>No</td>\n",
       "      <td>3</td>\n",
       "      <td>4.4</td>\n",
       "      <td>Green</td>\n",
       "      <td>Very Good</td>\n",
       "      <td>1158</td>\n",
       "    </tr>\n",
       "    <tr>\n",
       "      <th>418</th>\n",
       "      <td>17142698</td>\n",
       "      <td>Leonard's Bakery</td>\n",
       "      <td>216</td>\n",
       "      <td>Rest of Hawaii</td>\n",
       "      <td>933 Kapahulu Ave, Honolulu, HI 96816</td>\n",
       "      <td>Kaimuki</td>\n",
       "      <td>Kaimuki, Rest of Hawaii</td>\n",
       "      <td>-157.813432</td>\n",
       "      <td>21.284586</td>\n",
       "      <td>NaN</td>\n",
       "      <td>...</td>\n",
       "      <td>Dollar($)</td>\n",
       "      <td>No</td>\n",
       "      <td>No</td>\n",
       "      <td>No</td>\n",
       "      <td>No</td>\n",
       "      <td>1</td>\n",
       "      <td>4.7</td>\n",
       "      <td>Dark Green</td>\n",
       "      <td>Excellent</td>\n",
       "      <td>707</td>\n",
       "    </tr>\n",
       "    <tr>\n",
       "      <th>455</th>\n",
       "      <td>17616465</td>\n",
       "      <td>Tybee Island Social Club</td>\n",
       "      <td>216</td>\n",
       "      <td>Savannah</td>\n",
       "      <td>1311 Butler Ave, Tybee Island, GA 31328</td>\n",
       "      <td>Tybee Island</td>\n",
       "      <td>Tybee Island, Savannah</td>\n",
       "      <td>-80.848297</td>\n",
       "      <td>31.995810</td>\n",
       "      <td>NaN</td>\n",
       "      <td>...</td>\n",
       "      <td>Dollar($)</td>\n",
       "      <td>No</td>\n",
       "      <td>No</td>\n",
       "      <td>No</td>\n",
       "      <td>No</td>\n",
       "      <td>1</td>\n",
       "      <td>3.9</td>\n",
       "      <td>Yellow</td>\n",
       "      <td>Good</td>\n",
       "      <td>309</td>\n",
       "    </tr>\n",
       "  </tbody>\n",
       "</table>\n",
       "<p>9 rows × 21 columns</p>\n",
       "</div>"
      ],
      "text/plain": [
       "     Restaurant ID                 Restaurant Name  Country Code  \\\n",
       "84        17284105                   Cookie Shoppe           216   \n",
       "87        17284211  Pearly's Famous Country Cookng           216   \n",
       "94        17284158               Jimmie's Hot Dogs           216   \n",
       "297       17374552                  Corkscrew Cafe           216   \n",
       "328       17501439                        Dovetail           216   \n",
       "346       17606621            HI Lite Bar & Lounge           216   \n",
       "368       17059060                       Hillstone           216   \n",
       "418       17142698                Leonard's Bakery           216   \n",
       "455       17616465        Tybee Island Social Club           216   \n",
       "\n",
       "               City                                          Address  \\\n",
       "84           Albany               115 N Jackson St, Albany, GA 31701   \n",
       "87           Albany             814 N Slappey Blvd, Albany, GA 31701   \n",
       "94           Albany               204 S Jackson St, Albany, GA 31701   \n",
       "297     Gainesville                51 W Main St, Dahlonega, GA 30533   \n",
       "328           Macon                   543 Cherry St, Macon, GA 31201   \n",
       "346          Miller             109 N Broadway Ave, Miller, SD 57362   \n",
       "368         Orlando  215 South Orlando Avenue, Winter Park, FL 32789   \n",
       "418  Rest of Hawaii             933 Kapahulu Ave, Honolulu, HI 96816   \n",
       "455        Savannah          1311 Butler Ave, Tybee Island, GA 31328   \n",
       "\n",
       "         Locality         Locality Verbose   Longitude   Latitude Cuisines  \\\n",
       "84         Albany           Albany, Albany  -84.154000  31.577200      NaN   \n",
       "87         Albany           Albany, Albany  -84.175900  31.588200      NaN   \n",
       "94         Albany           Albany, Albany  -84.153400  31.575100      NaN   \n",
       "297     Dahlonega   Dahlonega, Gainesville  -83.985800  34.531800      NaN   \n",
       "328         Macon             Macon, Macon  -83.627979  32.836410      NaN   \n",
       "346        Miller           Miller, Miller  -98.989100  44.515800      NaN   \n",
       "368   Winter Park     Winter Park, Orlando  -81.365260  28.596682      NaN   \n",
       "418       Kaimuki  Kaimuki, Rest of Hawaii -157.813432  21.284586      NaN   \n",
       "455  Tybee Island   Tybee Island, Savannah  -80.848297  31.995810      NaN   \n",
       "\n",
       "     ...   Currency Has Table booking Has Online delivery Is delivering now  \\\n",
       "84   ...  Dollar($)                No                  No                No   \n",
       "87   ...  Dollar($)                No                  No                No   \n",
       "94   ...  Dollar($)                No                  No                No   \n",
       "297  ...  Dollar($)                No                  No                No   \n",
       "328  ...  Dollar($)                No                  No                No   \n",
       "346  ...  Dollar($)                No                  No                No   \n",
       "368  ...  Dollar($)                No                  No                No   \n",
       "418  ...  Dollar($)                No                  No                No   \n",
       "455  ...  Dollar($)                No                  No                No   \n",
       "\n",
       "    Switch to order menu Price range  Aggregate rating  Rating color  \\\n",
       "84                    No           1               3.4        Orange   \n",
       "87                    No           1               3.4        Orange   \n",
       "94                    No           1               3.9        Yellow   \n",
       "297                   No           3               3.9        Yellow   \n",
       "328                   No           3               3.8        Yellow   \n",
       "346                   No           1               3.4        Orange   \n",
       "368                   No           3               4.4         Green   \n",
       "418                   No           1               4.7    Dark Green   \n",
       "455                   No           1               3.9        Yellow   \n",
       "\n",
       "    Rating text Votes  \n",
       "84      Average    34  \n",
       "87      Average    36  \n",
       "94         Good   160  \n",
       "297        Good   209  \n",
       "328        Good   102  \n",
       "346     Average    11  \n",
       "368   Very Good  1158  \n",
       "418   Excellent   707  \n",
       "455        Good   309  \n",
       "\n",
       "[9 rows x 21 columns]"
      ]
     },
     "execution_count": 35,
     "metadata": {},
     "output_type": "execute_result"
    }
   ],
   "source": [
    "df[df.Cuisines.isna()]"
   ]
  },
  {
   "cell_type": "code",
   "execution_count": 36,
   "id": "fd1c0b93",
   "metadata": {},
   "outputs": [],
   "source": [
    "df.Cuisines= df.Cuisines.fillna('Unknown')"
   ]
  },
  {
   "cell_type": "code",
   "execution_count": 37,
   "id": "6275b612",
   "metadata": {},
   "outputs": [
    {
     "data": {
      "text/html": [
       "<div>\n",
       "<style scoped>\n",
       "    .dataframe tbody tr th:only-of-type {\n",
       "        vertical-align: middle;\n",
       "    }\n",
       "\n",
       "    .dataframe tbody tr th {\n",
       "        vertical-align: top;\n",
       "    }\n",
       "\n",
       "    .dataframe thead th {\n",
       "        text-align: right;\n",
       "    }\n",
       "</style>\n",
       "<table border=\"1\" class=\"dataframe\">\n",
       "  <thead>\n",
       "    <tr style=\"text-align: right;\">\n",
       "      <th></th>\n",
       "      <th>Restaurant ID</th>\n",
       "      <th>Restaurant Name</th>\n",
       "      <th>Country Code</th>\n",
       "      <th>City</th>\n",
       "      <th>Address</th>\n",
       "      <th>Locality</th>\n",
       "      <th>Locality Verbose</th>\n",
       "      <th>Longitude</th>\n",
       "      <th>Latitude</th>\n",
       "      <th>Cuisines</th>\n",
       "      <th>...</th>\n",
       "      <th>Currency</th>\n",
       "      <th>Has Table booking</th>\n",
       "      <th>Has Online delivery</th>\n",
       "      <th>Is delivering now</th>\n",
       "      <th>Switch to order menu</th>\n",
       "      <th>Price range</th>\n",
       "      <th>Aggregate rating</th>\n",
       "      <th>Rating color</th>\n",
       "      <th>Rating text</th>\n",
       "      <th>Votes</th>\n",
       "    </tr>\n",
       "  </thead>\n",
       "  <tbody>\n",
       "  </tbody>\n",
       "</table>\n",
       "<p>0 rows × 21 columns</p>\n",
       "</div>"
      ],
      "text/plain": [
       "Empty DataFrame\n",
       "Columns: [Restaurant ID, Restaurant Name, Country Code, City, Address, Locality, Locality Verbose, Longitude, Latitude, Cuisines, Average Cost for two, Currency, Has Table booking, Has Online delivery, Is delivering now, Switch to order menu, Price range, Aggregate rating, Rating color, Rating text, Votes]\n",
       "Index: []\n",
       "\n",
       "[0 rows x 21 columns]"
      ]
     },
     "execution_count": 37,
     "metadata": {},
     "output_type": "execute_result"
    }
   ],
   "source": [
    "df[df.Cuisines.isna()]"
   ]
  },
  {
   "cell_type": "code",
   "execution_count": 38,
   "id": "115e2a94",
   "metadata": {},
   "outputs": [],
   "source": [
    "cuisine_list=df.Cuisines.str.split(', ').explode()"
   ]
  },
  {
   "cell_type": "code",
   "execution_count": 39,
   "id": "706cc9e4",
   "metadata": {
    "scrolled": true
   },
   "outputs": [
    {
     "data": {
      "text/plain": [
       "array(['French', 'Japanese', 'Desserts', 'Seafood', 'Asian', 'Filipino',\n",
       "       'Indian', 'Sushi', 'Korean', 'Chinese', 'European', 'Mexican',\n",
       "       'American', 'Ice Cream', 'Cafe', 'Italian', 'Pizza', 'Bakery',\n",
       "       'Mediterranean', 'Fast Food', 'Brazilian', 'Arabian', 'Bar Food',\n",
       "       'Grill', 'International', 'Peruvian', 'Latin American', 'Burger',\n",
       "       'Juices', 'Healthy Food', 'Beverages', 'Lebanese', 'Sandwich',\n",
       "       'Steak', 'BBQ', 'Gourmet Fast Food', 'Mineira', 'North Eastern',\n",
       "       'Unknown', 'Coffee and Tea', 'Vegetarian', 'Tapas', 'Breakfast',\n",
       "       'Diner', 'Southern', 'Southwestern', 'Spanish', 'Argentine',\n",
       "       'Caribbean', 'German', 'Vietnamese', 'Thai', 'Modern Australian',\n",
       "       'Teriyaki', 'Cajun', 'Canadian', 'Tex-Mex', 'Middle Eastern',\n",
       "       'Greek', 'Bubble Tea', 'Tea', 'Australian', 'Fusion', 'Cuban',\n",
       "       'Hawaiian', 'Salad', 'Irish', 'New American', 'Soul Food',\n",
       "       'Turkish', 'Pub Food', 'Persian', 'Continental', 'Singaporean',\n",
       "       'Malay', 'Cantonese', 'Dim Sum', 'Western', 'Finger Food',\n",
       "       'British', 'Deli', 'Indonesian', 'North Indian', 'Mughlai',\n",
       "       'Biryani', 'South Indian', 'Pakistani', 'Afghani', 'Hyderabadi',\n",
       "       'Rajasthani', 'Street Food', 'Goan', 'African', 'Portuguese',\n",
       "       'Gujarati', 'Armenian', 'Mithai', 'Maharashtrian', 'Modern Indian',\n",
       "       'Charcoal Grill', 'Malaysian', 'Burmese', 'Chettinad', 'Parsi',\n",
       "       'Tibetan', 'Raw Meats', 'Kerala', 'Belgian', 'Kashmiri',\n",
       "       'South American', 'Bengali', 'Iranian', 'Lucknowi', 'Awadhi',\n",
       "       'Nepalese', 'Drinks Only', 'Oriya', 'Bihari', 'Assamese', 'Andhra',\n",
       "       'Mangalorean', 'Malwani', 'Cuisine Varies', 'Moroccan', 'Naga',\n",
       "       'Sri Lankan', 'Peranakan', 'Sunda', 'Ramen', 'Kiwi',\n",
       "       'Asian Fusion', 'Taiwanese', 'Fish and Chips', 'Contemporary',\n",
       "       'Scottish', 'Curry', 'Patisserie', 'South African', 'Durban',\n",
       "       'Kebab', 'Turkish Pizza', 'Izgara', 'World Cuisine', 'D�_ner',\n",
       "       'Restaurant Cafe', 'B�_rek'], dtype=object)"
      ]
     },
     "execution_count": 39,
     "metadata": {},
     "output_type": "execute_result"
    }
   ],
   "source": [
    "cuisine_list.unique()"
   ]
  },
  {
   "cell_type": "markdown",
   "id": "2ec21cb2",
   "metadata": {},
   "source": [
    "# LEVEL 3 "
   ]
  },
  {
   "cell_type": "markdown",
   "id": "e9ddfbce",
   "metadata": {},
   "source": [
    "## Task 1:  Restaurant Reviews"
   ]
  },
  {
   "cell_type": "markdown",
   "id": "5724809d",
   "metadata": {},
   "source": [
    "1. Analyze the text reviews to identify the most common positive and negative keywords."
   ]
  },
  {
   "cell_type": "code",
   "execution_count": 163,
   "id": "98145188",
   "metadata": {},
   "outputs": [
    {
     "data": {
      "text/plain": [
       "array(['Excellent', 'Very Good', 'Good', 'Average', 'Not rated', 'Poor'],\n",
       "      dtype=object)"
      ]
     },
     "execution_count": 163,
     "metadata": {},
     "output_type": "execute_result"
    }
   ],
   "source": [
    "df['Rating text'].unique()"
   ]
  },
  {
   "cell_type": "code",
   "execution_count": 166,
   "id": "de006bfb",
   "metadata": {},
   "outputs": [],
   "source": [
    "positive_keywords = ['Excellent','Very Good', 'Good']\n",
    "negative_keywords = ['Average', 'Poor']"
   ]
  },
  {
   "cell_type": "code",
   "execution_count": 167,
   "id": "d0249233",
   "metadata": {},
   "outputs": [
    {
     "data": {
      "text/plain": [
       "Rating text\n",
       "Average      3737\n",
       "Not rated    2148\n",
       "Good         2100\n",
       "Very Good    1079\n",
       "Excellent     301\n",
       "Poor          186\n",
       "Name: count, dtype: int64"
      ]
     },
     "execution_count": 167,
     "metadata": {},
     "output_type": "execute_result"
    }
   ],
   "source": [
    "df['Rating text'].value_counts()"
   ]
  },
  {
   "cell_type": "markdown",
   "id": "63e01e9c",
   "metadata": {},
   "source": [
    "2. Calculate the average length of reviews and explore if there is a relationship between review length and rating."
   ]
  },
  {
   "cell_type": "code",
   "execution_count": 190,
   "id": "98274272",
   "metadata": {
    "scrolled": true
   },
   "outputs": [
    {
     "data": {
      "text/plain": [
       "0       9\n",
       "1       9\n",
       "2       9\n",
       "3       9\n",
       "4       9\n",
       "       ..\n",
       "9546    9\n",
       "9547    9\n",
       "9548    4\n",
       "9549    9\n",
       "9550    9\n",
       "Name: len_r, Length: 9551, dtype: int64"
      ]
     },
     "execution_count": 190,
     "metadata": {},
     "output_type": "execute_result"
    }
   ],
   "source": [
    "df['len_r'] = df['Rating text'].apply(lambda r: len(r))\n",
    "df['len_r']"
   ]
  },
  {
   "cell_type": "code",
   "execution_count": 191,
   "id": "d4264306",
   "metadata": {},
   "outputs": [
    {
     "data": {
      "text/plain": [
       "array([9, 4, 7], dtype=int64)"
      ]
     },
     "execution_count": 191,
     "metadata": {},
     "output_type": "execute_result"
    }
   ],
   "source": [
    "df['len_r'].unique()"
   ]
  },
  {
   "cell_type": "code",
   "execution_count": 192,
   "id": "4e524be3",
   "metadata": {},
   "outputs": [
    {
     "data": {
      "text/plain": [
       "7.020730813527379"
      ]
     },
     "execution_count": 192,
     "metadata": {},
     "output_type": "execute_result"
    }
   ],
   "source": [
    "df['len_r'].mean()"
   ]
  },
  {
   "cell_type": "code",
   "execution_count": 197,
   "id": "08e67b03",
   "metadata": {},
   "outputs": [
    {
     "data": {
      "text/plain": [
       "<Axes: xlabel='len_r', ylabel='Aggregate rating'>"
      ]
     },
     "execution_count": 197,
     "metadata": {},
     "output_type": "execute_result"
    },
    {
     "data": {
      "image/png": "[encoded data removed]",
      "text/plain": [
       "<Figure size 640x480 with 1 Axes>"
      ]
     },
     "metadata": {},
     "output_type": "display_data"
    }
   ],
   "source": [
    "sns.scatterplot(x='len_r', y='Aggregate rating', hue='len_r', data=df)"
   ]
  },
  {
   "cell_type": "markdown",
   "id": "53359514",
   "metadata": {},
   "source": [
    "## Task 2: Votes Analysis"
   ]
  },
  {
   "cell_type": "markdown",
   "id": "ace7adc5",
   "metadata": {},
   "source": [
    "1. Identify the restaurants with the highest and lowest number of votes."
   ]
  },
  {
   "cell_type": "code",
   "execution_count": 213,
   "id": "397bf206",
   "metadata": {},
   "outputs": [
    {
     "data": {
      "text/plain": [
       "Restaurant Name\n",
       "Barbeque Nation    28142\n",
       "Name: Votes, dtype: int64"
      ]
     },
     "execution_count": 213,
     "metadata": {},
     "output_type": "execute_result"
    }
   ],
   "source": [
    "df.groupby('Restaurant Name')['Votes'].sum().sort_values(ascending=False)[:1]"
   ]
  },
  {
   "cell_type": "code",
   "execution_count": 215,
   "id": "2fae0e4c",
   "metadata": {},
   "outputs": [
    {
     "data": {
      "text/plain": [
       "Restaurant Name\n",
       "Food Station    0\n",
       "Name: Votes, dtype: int64"
      ]
     },
     "execution_count": 215,
     "metadata": {},
     "output_type": "execute_result"
    }
   ],
   "source": [
    "df.groupby('Restaurant Name')['Votes'].sum().sort_values(ascending=False)[-1:]"
   ]
  },
  {
   "cell_type": "markdown",
   "id": "fd3847ce",
   "metadata": {},
   "source": [
    "## Task 3: Price Range vs. Online Delivery and Table Booking"
   ]
  },
  {
   "cell_type": "markdown",
   "id": "b685f000",
   "metadata": {},
   "source": [
    "1. Analyze if there is a relationship between the price range and the availability of online delivery and table booking."
   ]
  },
  {
   "cell_type": "code",
   "execution_count": 218,
   "id": "b547aad0",
   "metadata": {},
   "outputs": [
    {
     "data": {
      "image/png": "[encoded data removed]",
      "text/plain": [
       "<Figure size 1000x600 with 1 Axes>"
      ]
     },
     "metadata": {},
     "output_type": "display_data"
    },
    {
     "data": {
      "image/png": "[encoded data removed]",
      "text/plain": [
       "<Figure size 1000x600 with 1 Axes>"
      ]
     },
     "metadata": {},
     "output_type": "display_data"
    }
   ],
   "source": [
    "plt.figure(figsize=(10, 6))\n",
    "sns.countplot(data=df, x='Price range', hue='Has Online delivery')\n",
    "plt.title('Price Range vs Online Delivery')\n",
    "plt.show()\n",
    "\n",
    "# Visualization for Price range and Table booking\n",
    "plt.figure(figsize=(10, 6))\n",
    "sns.countplot(data=df, x='Price range', hue='Has Table booking')\n",
    "plt.title('Price Range vs Table Booking')\n",
    "plt.show()"
   ]
  },
  {
   "cell_type": "code",
   "execution_count": 221,
   "id": "a20dcf7c",
   "metadata": {},
   "outputs": [
    {
     "name": "stderr",
     "output_type": "stream",
     "text": [
      "C:\\Users\\hp\\anaconda3\\Lib\\site-packages\\seaborn\\axisgrid.py:118: UserWarning: The figure layout has changed to tight\n",
      "  self._figure.tight_layout(*args, **kwargs)\n"
     ]
    },
    {
     "data": {
      "text/plain": [
       "<seaborn.axisgrid.FacetGrid at 0x203e0c9fa10>"
      ]
     },
     "execution_count": 221,
     "metadata": {},
     "output_type": "execute_result"
    },
    {
     "data": {
      "image/png": "[encoded data removed]",
      "text/plain": [
       "<Figure size 1346.49x500 with 2 Axes>"
      ]
     },
     "metadata": {},
     "output_type": "display_data"
    }
   ],
   "source": [
    "sns.catplot(data=df, x='Price range', hue='Has Online delivery', col='Has Table booking', kind='count', height=5, aspect=1.2)"
   ]
  },
  {
   "cell_type": "markdown",
   "id": "e4ffaac5",
   "metadata": {},
   "source": [
    "2. Determine if higher-priced restaurants are more likely to offer these services."
   ]
  },
  {
   "cell_type": "markdown",
   "id": "4bfa2589",
   "metadata": {},
   "source": [
    "By analyzing these graphs , we can infer that at higher price ranges suxh as 3-4 , restaurants have oonline delivery and table booking available."
   ]
  },
  {
   "cell_type": "code",
   "execution_count": null,
   "id": "44660a4e",
   "metadata": {},
   "outputs": [],
   "source": []
  }
 ],
 "metadata": {
  "kernelspec": {
   "display_name": "Python 3 (ipykernel)",
   "language": "python",
   "name": "python3"
  },
  "language_info": {
   "codemirror_mode": {
    "name": "ipython",
    "version": 3
   },
   "file_extension": ".py",
   "mimetype": "text/x-python",
   "name": "python",
   "nbconvert_exporter": "python",
   "pygments_lexer": "ipython3",
   "version": "3.11.5"
  }
 },
 "nbformat": 4,
 "nbformat_minor": 5
}
